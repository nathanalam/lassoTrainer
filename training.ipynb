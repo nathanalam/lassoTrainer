{
 "cells": [
  {
   "cell_type": "markdown",
   "id": "silver-kingdom",
   "metadata": {},
   "source": [
    "# Training Notebook"
   ]
  },
  {
   "cell_type": "code",
   "execution_count": 8,
   "id": "exciting-injection",
   "metadata": {},
   "outputs": [],
   "source": [
    "import numpy as np"
   ]
  },
  {
   "cell_type": "code",
   "execution_count": 9,
   "id": "chicken-increase",
   "metadata": {},
   "outputs": [],
   "source": [
    "from Bio import SeqIO\n",
    "\n",
    "positives = []\n",
    "negatives = []\n",
    "\n",
    "with open(\"positives.fasta\", \"r\") as input_handle:\n",
    "    for record in SeqIO.parse(input_handle, \"fasta\"):\n",
    "        positives.append(str(record.seq))\n",
    "with open(\"negatives.fasta\", \"r\") as input_handle:\n",
    "    for record in SeqIO.parse(input_handle, \"fasta\"):\n",
    "        negatives.append(str(record.seq))"
   ]
  },
  {
   "cell_type": "code",
   "execution_count": 10,
   "id": "infectious-indication",
   "metadata": {},
   "outputs": [
    {
     "data": {
      "text/plain": [
       "['MHTPIISETVQPKTAGLIVLGKASAETRGLSQGVEPDIGQTYFEESRINQD',\n",
       " 'MNKQQQESGLLLAEESLMELCASSETLGGAGQYKEVEAGRWSDRIDSDDE',\n",
       " 'MVRLLAKLLRSTIHGSNGVSLDAVSSTHGTPGFQTPDARVISRFGFN',\n",
       " 'MERIEDHIDDELIDLGAASVETQGDVLNAPEPGIGREPTGLSRD',\n",
       " 'MQRIIDETTDGLIELGAASVQTQGDVLFAPEPGVGRPPMGLSED',\n",
       " 'MTKKNATQAPRLVRVGDAHRLTQGAFVGQPEAVNPLGREIQG',\n",
       " 'MTKTHRLIRLGDAQRLTQGTLTPGLPEDFLPGHYMPG',\n",
       " 'MTSRFQLLRLGKADRLTRGALVGLLLEDITVARYDPM',\n",
       " 'MTSQPSKKTYNAPSLVQRGKFARTTAGSQLVYREWVGHSNVIKPGP',\n",
       " 'MDEELELEIVDLGDAKELTQGAPSLINSEDNPAFPQRV',\n",
       " 'MDRHDNSEVDEIIDLGTASAVTQGMGSGSTDQNGQPKNLIGGISDD',\n",
       " 'MKQQKQQKKAYVKPSMFQQGDFSKKTAGYFVGSYKEYWSRRII',\n",
       " 'MLISTTNGQGTPMTSTDELYEAPELIEIGDYAELTRCVWGGDCTDFLGCGTAWICV',\n",
       " 'MIKHFHFNKLSSGKKNNVPSPAKGVIQIKKSASQLTKGGAGHVPEYFVGIGTPISFYG']"
      ]
     },
     "execution_count": 10,
     "metadata": {},
     "output_type": "execute_result"
    }
   ],
   "source": [
    "positives"
   ]
  },
  {
   "cell_type": "code",
   "execution_count": 11,
   "id": "personalized-inspector",
   "metadata": {},
   "outputs": [],
   "source": [
    "# License: GNU Affero General Public License v3 or later\n",
    "# Taken and adapted from https://github.com/Alexamk/decRiPPter\n",
    "from numpy import log2\n",
    "\n",
    "def vectorize(sequence_list):\n",
    "    vector_arr = []\n",
    "    class Precursor:\n",
    "        def __init__(self, sequence):\n",
    "            self.sequence = sequence\n",
    "            self.cys30 = ''\n",
    "            self.cys20 = ''\n",
    "            self.cys_ser30 = ''\n",
    "            self.cys_ser20 = ''\n",
    "            self.aafreq   = dict([(i,0.) for i in \\\n",
    "                    [\"A\", \"R\", \"N\", \"D\", \"C\", \"E\", \"Q\", \"G\", \"H\", \"I\", \"L\", \"K\", \\\n",
    "                     \"M\", \"F\", \"P\", \"S\", \"T\", \"W\", \"Y\", \"V\"]])\n",
    "            self.clfreq = {\n",
    "                'RHK': 0.,\n",
    "                'DE': 0.,\n",
    "                'STNQ': 0.,\n",
    "                'CGP': 0.,\n",
    "                'AVIL': 0.,\n",
    "                'MFYW': 0.\n",
    "            }\n",
    "            self.charge = ''\n",
    "            self.avgcharge = ''\n",
    "            self.avghydrop = ''\n",
    "            self.length = len(self.sequence)\n",
    "            self.entropy = ''\n",
    "            self.entropyratio = ''\n",
    "\n",
    "        def calculate_features(self):\n",
    "            '''\n",
    "            Wimley-White whole residue hydrophobicity interface scale\n",
    "            '''\n",
    "            hydrophobicity_dict = {\n",
    "                'A': 0.17,\n",
    "                'R': 0.81,\n",
    "                'N': 0.42,\n",
    "                'D': 1.23,\n",
    "                'C': -0.24,\n",
    "                'Q': 0.58,\n",
    "                'E': 2.02,\n",
    "                'G': 0.01,\n",
    "                'H': 0.96,\n",
    "                'I': -0.31,\n",
    "                'L': -0.56,\n",
    "                'K': 0.99,\n",
    "                'M': -0.23,\n",
    "                'F': -1.13,\n",
    "                'P': 0.45,\n",
    "                'S': 0.13,\n",
    "                'T': 0.14,\n",
    "                'W': -1.85,\n",
    "                'Y': -0.94,\n",
    "                'V': 0.07,\n",
    "                'X': 0.\n",
    "            }\n",
    "\n",
    "            charge_dict = {\n",
    "                'A': 0.,\n",
    "                'R': 1.,\n",
    "                'N': 0.,\n",
    "                'D': -1.,\n",
    "                'C': 0.,\n",
    "                'Q': 0.,\n",
    "                'E': -1.,\n",
    "                'G': 0.,\n",
    "                'H': 0.5,\n",
    "                'I': 0.,\n",
    "                'L': 0.,\n",
    "                'K': 1.,\n",
    "                'M': 0.,\n",
    "                'F': 0.,\n",
    "                'P': 0.,\n",
    "                'S': 0.,\n",
    "                'T': 0.,\n",
    "                'W': 0.,\n",
    "                'Y': 0.,\n",
    "                'V': 0.,\n",
    "                'X': 0.\n",
    "            }\n",
    "\n",
    "            # --- cys20/30; includes normalization in case a peptide is shorter than 30 aa\n",
    "            if self.length < 20:\n",
    "                self.cys30 = self.sequence.count('C') / float(self.length)\n",
    "                self.cys20 = self.sequence.count('C') / float(self.length)\n",
    "                self.cys_ser30 = (self.sequence.count('C') +\n",
    "                                  self.sequence.count('S')) / float(self.length)\n",
    "                self.cys_ser20 = (self.sequence.count('C') +\n",
    "                                  self.sequence.count('S')) / float(self.length)\n",
    "\n",
    "            elif 20 <= self.length < 30:\n",
    "                self.cys30 = self.sequence.count('C') / float(self.length)\n",
    "                self.cys_ser30 = (self.sequence.count('C') +\n",
    "                                  self.sequence.count('S')) / float(self.length)\n",
    "                self.cys20 = max([self.sequence[rng:rng+20].count('C') / float(len(self.sequence[rng:rng+20])) \\\n",
    "                          for rng in range(0,self.length,1) if len(self.sequence[rng:rng+20])==20])\n",
    "                self.cys_ser20 = max([(self.sequence[rng:rng+20].count('C') + self.sequence[rng:rng+20].count('S')) \\\n",
    "                          / float(len(self.sequence[rng:rng+20])) for rng in range(0,self.length,1) if \\\n",
    "                          len(self.sequence[rng:rng+20])==20])\n",
    "\n",
    "            else:\n",
    "                self.cys30 = max([self.sequence[rng:rng+30].count('C') / float(len(self.sequence[rng:rng+30])) \\\n",
    "                          for rng in range(0,self.length,1) if len(self.sequence[rng:rng+30])==30])\n",
    "                self.cys20 = max([self.sequence[rng:rng+20].count('C') / float(len(self.sequence[rng:rng+20])) \\\n",
    "                          for rng in range(0,self.length,1) if len(self.sequence[rng:rng+20])==20])\n",
    "                self.cys_ser30 = max([(self.sequence[rng:rng+30].count('C') + self.sequence[rng:rng+30].count('S')) \\\n",
    "                          / float(len(self.sequence[rng:rng+30])) for rng in range(0,self.length,1) if \\\n",
    "                          len(self.sequence[rng:rng+30])==30])\n",
    "                self.cys_ser20 = max([(self.sequence[rng:rng+20].count('C') + self.sequence[rng:rng+20].count('S')) \\\n",
    "                          / float(len(self.sequence[rng:rng+20])) for rng in range(0,self.length,1) if \\\n",
    "                          len(self.sequence[rng:rng+20])==20])\n",
    "\n",
    "            # --- aafreq\n",
    "            for aa in self.aafreq.keys():\n",
    "                self.aafreq[aa] = self.sequence.count(aa) / float(self.length)\n",
    "\n",
    "            # --- clfreq\n",
    "            for aas in self.clfreq.keys():\n",
    "                self.clfreq[aas] = sum([self.sequence.count(aa)\n",
    "                                        for aa in aas]) / float(self.length)\n",
    "\n",
    "            # --- charge & avgcharge\n",
    "            self.charge = sum(\n",
    "                [charge_dict[aa] for aa in self.sequence if aa in self.aafreq])\n",
    "            self.avgcharge = self.charge / float(self.length)\n",
    "\n",
    "            # --- avghydrop\n",
    "            self.avghydrop = sum([\n",
    "                hydrophobicity_dict[aa]\n",
    "                for aa in self.sequence if aa in self.aafreq\n",
    "            ]) / float(self.length)\n",
    "\n",
    "            # --- k-tuplet entropy\n",
    "            Es = []\n",
    "            for rng in range(self.length):\n",
    "                s = 0.\n",
    "                seqtmp = self.sequence[rng:rng + 10]\n",
    "                if 1:  #len(seqtmp)==10:\n",
    "                    for i in range(1, len(seqtmp)):\n",
    "                        try:                        s -= self.aafreq[seqtmp[i]]*self.aafreq[seqtmp[i]]*self.aafreq[seqtmp[i-1]] \\\n",
    "                            *log2(self.aafreq[seqtmp[i]]*self.aafreq[seqtmp[i-1]])\n",
    "                        except KeyError:\n",
    "                            pass\n",
    "                Es.append(s)\n",
    "            self.entropy = max(Es)\n",
    "\n",
    "            # --- entropy ratio\n",
    "            Es = []\n",
    "            for rng in range(self.length):\n",
    "                s = 0.\n",
    "                seqtmp = self.sequence[rng:rng + 10]\n",
    "                if len(seqtmp) < 5: continue\n",
    "                aatmp = set(seqtmp)\n",
    "                stotal = -sum([\n",
    "                    self.aafreq[i] * log2(self.aafreq[i])\n",
    "                    for i in aatmp if i in self.aafreq\n",
    "                ])\n",
    "                stemp = -sum([(seqtmp.count(i) / 10.) * log2(\n",
    "                    (seqtmp.count(i) / 10.)) for i in aatmp if i in self.aafreq])\n",
    "                try:\n",
    "                    Es.append(stemp / stotal)\n",
    "                except ZeroDivisionError:\n",
    "                    Es.append(2.)\n",
    "            try:\n",
    "                self.entropyratio = min(Es)\n",
    "            except:\n",
    "                raise ValueError('Error with min(Es) on smORF with sequence %s' %\n",
    "                                 self.sequence)\n",
    "\n",
    "        def make_list(self):\n",
    "\n",
    "            aalist = [\"A\", \"R\", \"N\", \"D\", \"C\", \"E\", \"Q\", \"G\", \"H\", \"I\", \"L\", \"K\", \\\n",
    "                     \"M\", \"F\", \"P\", \"S\", \"T\", \"W\", \"Y\", \"V\"]\n",
    "            cllist = ['RHK', 'DE', 'STNQ', 'CGP', 'AVIL', 'MFYW']\n",
    "\n",
    "            L = []\n",
    "            L += [self.aafreq[aa] for aa in aalist]\n",
    "            L += [self.clfreq[aa] for aa in cllist]\n",
    "            L += [\n",
    "                self.cys30, self.cys20, self.charge, self.avgcharge,\n",
    "                self.avghydrop, self.entropy, self.entropyratio\n",
    "            ]\n",
    "\n",
    "            return L\n",
    "\n",
    "        def get_features(self):\n",
    "            feature_list = [\n",
    "                self.sequence, self.cys30, self.cys20, self.cys_ser30,\n",
    "                self.cys_ser20, self.charge, self.avgcharge, self.avghydrop,\n",
    "                self.length, self.entropy, self.entropyratio\n",
    "            ]\n",
    "            amino_acids = self.aafreq.keys()\n",
    "            clusters = self.clfreq.keys()\n",
    "            sorted(clusters)\n",
    "            sorted(amino_acids)\n",
    "            feature_list += [self.aafreq[aa] for aa in amino_acids]\n",
    "            feature_list += [self.clfreq[cl] for cl in clusters]\n",
    "            return feature_list\n",
    "\n",
    "\n",
    "    '''\n",
    "    Precursor = Precursor('METEKYLQVVEDEEIEQLVGGAGPGWVETLTKDCPWNVPVACVTIMGQRICKKCY')\n",
    "    #Precursor = Precursor('MNKDIDLSAIEISDLISETEQSDDALSQVMAASCTTTGCACSSSSSST')\n",
    "    Precursor.calculate_features()\n",
    "\n",
    "    print Precursor.sequence, Precursor.cys30, Precursor.cys20, Precursor.entropy\n",
    "    print Precursor.aafreq\n",
    "    print Precursor.clfreq\n",
    "    print Precursor.charge, Precursor.avgcharge, Precursor.avghydrop, Precursor.length\n",
    "    '''\n",
    "    for seq in sequence_list:\n",
    "        new_vec = Precursor(seq)\n",
    "        new_vec.calculate_features()\n",
    "        vector_arr.append(new_vec.get_features()[1:])\n",
    "    return vector_arr\n"
   ]
  },
  {
   "cell_type": "code",
   "execution_count": null,
   "id": "raising-amplifier",
   "metadata": {},
   "outputs": [],
   "source": []
  },
  {
   "cell_type": "code",
   "execution_count": 12,
   "id": "composed-perspective",
   "metadata": {},
   "outputs": [],
   "source": [
    "pos_matrix = np.matrix(vectorize(positives))\n",
    "neg_matrix = np.matrix(vectorize(negatives))"
   ]
  },
  {
   "cell_type": "markdown",
   "id": "amber-worry",
   "metadata": {},
   "source": [
    "## Principal Component Analysis\n",
    "Quick visualization to see the vector space in three principal components"
   ]
  },
  {
   "cell_type": "code",
   "execution_count": 13,
   "id": "available-reporter",
   "metadata": {},
   "outputs": [],
   "source": [
    "normal_neg = neg_matrix - np.mean(neg_matrix,0)\n",
    "normal_pos = pos_matrix - np.mean(pos_matrix,0)"
   ]
  },
  {
   "cell_type": "code",
   "execution_count": 14,
   "id": "urban-guidance",
   "metadata": {},
   "outputs": [
    {
     "name": "stdout",
     "output_type": "stream",
     "text": [
      "(36, 36)\n"
     ]
    }
   ],
   "source": [
    "S = np.transpose(normal_neg) @ normal_neg\n",
    "S = S / len(normal_neg)\n",
    "print(S.shape)\n",
    "val, vec = np.linalg.eigh(S)\n",
    "b1 = vec[0]\n",
    "# b1 = b1.reshape(b1.shape[0], 1)\n",
    "b2 = vec[1]\n",
    "# b2 = b2.reshape(b2.shape[0], 1)\n",
    "b3 = vec[2]\n",
    "# b3 = b3.reshape(b3.shape[0], 1)"
   ]
  },
  {
   "cell_type": "code",
   "execution_count": 15,
   "id": "sticky-mitchell",
   "metadata": {},
   "outputs": [],
   "source": [
    "x_n = b1 @ np.transpose(normal_neg)\n",
    "y_n = b2 @ np.transpose(normal_neg)\n",
    "z_n = b3 @ np.transpose(normal_neg)\n",
    "x_p = b1 @ np.transpose(normal_pos)\n",
    "y_p = b2 @ np.transpose(normal_pos)\n",
    "z_p = b3 @ np.transpose(normal_pos)"
   ]
  },
  {
   "cell_type": "code",
   "execution_count": 16,
   "id": "applied-three",
   "metadata": {},
   "outputs": [
    {
     "data": {
      "image/png": "[encoded data removed]",
      "text/plain": [
       "<Figure size 1440x1440 with 1 Axes>"
      ]
     },
     "metadata": {
      "needs_background": "light"
     },
     "output_type": "display_data"
    }
   ],
   "source": [
    "import matplotlib.pyplot as plt\n",
    "plt.figure(figsize=(20,20));\n",
    "plt.xlabel(\"Principal Component 1\", fontsize=30);\n",
    "plt.ylabel(\"Principal Component 2\", fontsize=30);\n",
    "plt.title(\"Sequence based clustering\", fontsize=40);\n",
    "plt.plot(x_n, y_n, '.', color=\"gray\", markersize=15);\n",
    "plt.plot(x_p, y_p, '.', color=\"green\", markersize=30);"
   ]
  },
  {
   "cell_type": "markdown",
   "id": "interpreted-albania",
   "metadata": {},
   "source": [
    "## SVM Training"
   ]
  },
  {
   "cell_type": "code",
   "execution_count": 17,
   "id": "champion-crowd",
   "metadata": {},
   "outputs": [],
   "source": [
    "from sklearn.model_selection import train_test_split"
   ]
  },
  {
   "cell_type": "code",
   "execution_count": 18,
   "id": "worse-studio",
   "metadata": {},
   "outputs": [],
   "source": [
    "pos_train, pos_test = train_test_split(pos_matrix, test_size=0.33, random_state=42)\n",
    "neg_train, neg_test = train_test_split(neg_matrix, test_size=0.33, random_state=42)"
   ]
  },
  {
   "cell_type": "code",
   "execution_count": 19,
   "id": "democratic-hormone",
   "metadata": {},
   "outputs": [],
   "source": [
    "training_matrix = np.concatenate((pos_train, neg_train[0:100]))\n",
    "testing_matrix = np.concatenate((pos_test, neg_test))"
   ]
  },
  {
   "cell_type": "code",
   "execution_count": 20,
   "id": "necessary-butter",
   "metadata": {},
   "outputs": [],
   "source": [
    "training_labels = np.zeros((training_matrix.shape[0],))\n",
    "training_labels[:pos_train.shape[0]] += 1"
   ]
  },
  {
   "cell_type": "code",
   "execution_count": 21,
   "id": "matched-insulation",
   "metadata": {},
   "outputs": [],
   "source": [
    "testing_labels = np.zeros((testing_matrix.shape[0],), dtype=int)\n",
    "testing_labels[:pos_test.shape[0]] += 1"
   ]
  },
  {
   "cell_type": "code",
   "execution_count": 22,
   "id": "color-desert",
   "metadata": {},
   "outputs": [],
   "source": [
    "from sklearn import svm\n",
    "clf = svm.SVC(kernel=\"sigmoid\", probability=True)"
   ]
  },
  {
   "cell_type": "code",
   "execution_count": 23,
   "id": "contemporary-malpractice",
   "metadata": {},
   "outputs": [
    {
     "data": {
      "text/plain": [
       "SVC(kernel='sigmoid', probability=True)"
      ]
     },
     "execution_count": 23,
     "metadata": {},
     "output_type": "execute_result"
    }
   ],
   "source": [
    "clf.fit(training_matrix, training_labels)"
   ]
  },
  {
   "cell_type": "code",
   "execution_count": 24,
   "id": "assumed-financing",
   "metadata": {},
   "outputs": [],
   "source": [
    "predictions = clf.predict(testing_matrix)"
   ]
  },
  {
   "cell_type": "code",
   "execution_count": 25,
   "id": "beautiful-mauritius",
   "metadata": {},
   "outputs": [],
   "source": [
    "false_positives = 0\n",
    "false_negatives = 0\n",
    "true_positives = 0\n",
    "true_negatives = 0\n",
    "for ind in range(0, len(predictions)):\n",
    "    if(testing_labels[ind] == 1):\n",
    "        if(predictions[ind] == 1):\n",
    "            true_positives += 1\n",
    "        else:\n",
    "            false_negatives += 1\n",
    "    else:\n",
    "        if(predictions[ind] == 1):\n",
    "            false_positives += 1\n",
    "        else:\n",
    "            true_negatives += 1"
   ]
  },
  {
   "cell_type": "code",
   "execution_count": 26,
   "id": "attended-brand",
   "metadata": {},
   "outputs": [
    {
     "name": "stdout",
     "output_type": "stream",
     "text": [
      "True Positives: 0\n",
      "False Positives: 0\n",
      "True Negatives: 501\n",
      "False Negatives: 5\n",
      "----------------------------------\n",
      "Sensitivity: 0.0\n",
      "Specificity: 1.0\n"
     ]
    }
   ],
   "source": [
    "print(f'True Positives: {true_positives}')\n",
    "print(f'False Positives: {false_positives}')\n",
    "print(f'True Negatives: {true_negatives}')\n",
    "print(f'False Negatives: {false_negatives}')\n",
    "print('----------------------------------')\n",
    "print(f'Sensitivity: {true_positives / (true_positives + false_negatives)}')\n",
    "print(f'Specificity: {true_negatives / (true_negatives + false_positives)}')"
   ]
  },
  {
   "cell_type": "code",
   "execution_count": 27,
   "id": "chief-laser",
   "metadata": {},
   "outputs": [],
   "source": [
    "predictions = clf.predict_proba(testing_matrix)"
   ]
  },
  {
   "cell_type": "code",
   "execution_count": 28,
   "id": "sensitive-dayton",
   "metadata": {},
   "outputs": [
    {
     "data": {
      "text/plain": [
       "array([[0.83777993, 0.16222007],\n",
       "       [0.75021491, 0.24978509],\n",
       "       [0.84693696, 0.15306304],\n",
       "       [0.90043735, 0.09956265],\n",
       "       [0.77156112, 0.22843888],\n",
       "       [0.80224235, 0.19775765],\n",
       "       [0.93731673, 0.06268327],\n",
       "       [0.94555537, 0.05444463],\n",
       "       [0.93731673, 0.06268327],\n",
       "       [0.96392216, 0.03607784],\n",
       "       [0.98457967, 0.01542033],\n",
       "       [0.88090862, 0.11909138],\n",
       "       [0.88258246, 0.11741754],\n",
       "       [0.87822331, 0.12177669],\n",
       "       [0.95152653, 0.04847347]])"
      ]
     },
     "execution_count": 28,
     "metadata": {},
     "output_type": "execute_result"
    }
   ],
   "source": [
    "predictions[0:15]"
   ]
  },
  {
   "cell_type": "code",
   "execution_count": 29,
   "id": "fixed-drill",
   "metadata": {},
   "outputs": [],
   "source": [
    "def lasso_classifier(sequence_list):\n",
    "    return(np.matrix(clf.predict_proba(vectorize(sequence_list)))[:,1])"
   ]
  },
  {
   "cell_type": "code",
   "execution_count": 30,
   "id": "leading-martial",
   "metadata": {},
   "outputs": [],
   "source": [
    "positive_scores = lasso_classifier(positives)\n",
    "negative_scores = lasso_classifier(negatives)"
   ]
  },
  {
   "cell_type": "code",
   "execution_count": 31,
   "id": "appreciated-mouth",
   "metadata": {},
   "outputs": [
    {
     "name": "stdout",
     "output_type": "stream",
     "text": [
      "Average positive score: 0.1800002393546689\n",
      "Average negative score: 0.11752146779545895\n"
     ]
    }
   ],
   "source": [
    "print(f'Average positive score: {np.sum(positive_scores) / len(positives)}')\n",
    "print(f'Average negative score: {np.sum(negative_scores) / len(negatives)}')"
   ]
  },
  {
   "cell_type": "code",
   "execution_count": 32,
   "id": "large-country",
   "metadata": {},
   "outputs": [
    {
     "data": {
      "image/png": "[encoded data removed]",
      "text/plain": [
       "<Figure size 432x288 with 1 Axes>"
      ]
     },
     "metadata": {
      "needs_background": "light"
     },
     "output_type": "display_data"
    }
   ],
   "source": [
    "import random\n",
    "import numpy\n",
    "from matplotlib import pyplot\n",
    "\n",
    "bins = numpy.linspace(0, 1, 25)\n",
    "\n",
    "pyplot.hist(positive_scores, bins, alpha=0.5, label='Positives')\n",
    "pyplot.hist(negative_scores, bins, alpha=0.5, label='Negatives')\n",
    "pyplot.legend(loc='upper right')\n",
    "pyplot.show()"
   ]
  },
  {
   "cell_type": "code",
   "execution_count": 33,
   "id": "indoor-viking",
   "metadata": {},
   "outputs": [
    {
     "data": {
      "text/plain": [
       "14"
      ]
     },
     "execution_count": 33,
     "metadata": {},
     "output_type": "execute_result"
    }
   ],
   "source": [
    "len(positive_scores)"
   ]
  },
  {
   "cell_type": "code",
   "execution_count": 34,
   "id": "outer-association",
   "metadata": {},
   "outputs": [],
   "source": [
    "fpr = []\n",
    "tpr = []\n",
    "true_positives = len(positive_scores)\n",
    "true_negatives = len(negative_scores)\n",
    "for cutoff in np.linspace(0,1,25):\n",
    "    tpr.append(np.sum(positive_scores >= cutoff) / true_positives)\n",
    "    fpr.append(1 - (np.sum(negative_scores < cutoff) / true_negatives))"
   ]
  },
  {
   "cell_type": "code",
   "execution_count": 35,
   "id": "developed-russia",
   "metadata": {},
   "outputs": [
    {
     "data": {
      "image/png": "[encoded data removed]",
      "text/plain": [
       "<Figure size 432x288 with 1 Axes>"
      ]
     },
     "metadata": {
      "needs_background": "light"
     },
     "output_type": "display_data"
    }
   ],
   "source": [
    "pyplot.figure()\n",
    "lw = 2\n",
    "pyplot.plot(fpr, tpr, color='darkorange',\n",
    "         lw=lw, label='ROC curve')\n",
    "pyplot.plot([0, 1], [0, 1], color='navy', lw=lw, linestyle='--')\n",
    "pyplot.xlim([0.0, 1.0])\n",
    "pyplot.ylim([0.0, 1.05])\n",
    "pyplot.xlabel('1 - Specificity')\n",
    "pyplot.ylabel('Sensitivity')\n",
    "pyplot.title('Receiver operating characteristic')\n",
    "pyplot.legend(loc=\"lower right\")\n",
    "pyplot.show()"
   ]
  },
  {
   "cell_type": "markdown",
   "id": "impressive-batman",
   "metadata": {},
   "source": [
    "# Export Models"
   ]
  },
  {
   "cell_type": "code",
   "execution_count": 36,
   "id": "successful-agriculture",
   "metadata": {},
   "outputs": [],
   "source": [
    "import dill as pickle\n",
    "\n",
    "with open('SVMsigmoid.pickle', 'wb') as f:\n",
    "    pickle.dump(clf, f)\n",
    "with open('vectorize.pickle', 'wb') as f:\n",
    "    pickle.dump(vectorize, f)"
   ]
  },
  {
   "cell_type": "markdown",
   "id": "indirect-model",
   "metadata": {},
   "source": [
    "# Run Classifier\n",
    "Load and test the classifier function"
   ]
  },
  {
   "cell_type": "code",
   "execution_count": 5,
   "id": "incredible-review",
   "metadata": {},
   "outputs": [],
   "source": [
    "import dill as pickle\n",
    "import numpy as np\n",
    "from numpy import log2\n",
    "\n",
    "with open('SVMsigmoid.pickle', 'rb') as g:\n",
    "    clf = pickle.load(g)\n",
    "with open('vectorize.pickle', 'rb') as g:\n",
    "    vectorize = pickle.load(g)"
   ]
  },
  {
   "cell_type": "code",
   "execution_count": 6,
   "id": "documented-feeling",
   "metadata": {},
   "outputs": [],
   "source": [
    "def classify(sequence_list):\n",
    "    return(np.matrix(clf.predict_proba(vectorize(sequence_list)))[:,1])"
   ]
  },
  {
   "cell_type": "code",
   "execution_count": 7,
   "id": "enhanced-overview",
   "metadata": {},
   "outputs": [
    {
     "data": {
      "text/plain": [
       "matrix([[0.19417684]])"
      ]
     },
     "execution_count": 7,
     "metadata": {},
     "output_type": "execute_result"
    }
   ],
   "source": [
    "classify([\"MYPLAIGHEPGVIGTGAEDFTVLIGGGFELNLEGGLRCRTDQG\"])"
   ]
  },
  {
   "cell_type": "code",
   "execution_count": null,
   "id": "joined-danish",
   "metadata": {},
   "outputs": [],
   "source": []
  }
 ],
 "metadata": {
  "kernelspec": {
   "display_name": "Python 3",
   "language": "python",
   "name": "python3"
  },
  "language_info": {
   "codemirror_mode": {
    "name": "ipython",
    "version": 3
   },
   "file_extension": ".py",
   "mimetype": "text/x-python",
   "name": "python",
   "nbconvert_exporter": "python",
   "pygments_lexer": "ipython3",
   "version": "3.6.9"
  }
 },
 "nbformat": 4,
 "nbformat_minor": 5
}
